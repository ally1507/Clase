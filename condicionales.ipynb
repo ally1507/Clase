{
 "cells": [
  {
   "cell_type": "code",
   "execution_count": null,
   "id": "4c6f4829",
   "metadata": {},
   "outputs": [
    {
     "name": "stdout",
     "output_type": "stream",
     "text": [
      "Valor invalido debe de ser C o F en mayuscula\n"
     ]
    }
   ],
   "source": [
    "# Convertidor de Temperatura: Pide al usuario que ingrese una temperatura y una\n",
    "# unidad ('C' para Celsius, 'F' para Fahrenheit). Si la unidad es 'C', conviértela a\n",
    "#Fahrenheit e imprímela. Si es 'F', conviértela a Celsius e imprímela. (F = C * 9/5 +\n",
    "# 32; C = (F - 32) * 5/9).\n",
    "\n",
    "temperatura = float (input(\"Ingrese la temperatura: \"))\n",
    "tipo_temp = input (\"Ingrese la la letra C si quiere grados Celsius o F si quiere grados Fahrenheit : \")\n",
    "\n",
    "if tipo_temp == \"C\" :\n",
    "    fahrenheit = ( temperatura * 9/5 ) + 32\n",
    "    print (f\"La temperatura {temperatura} en Celsius equivalen a {fahrenheit:.2f} en grados fahrenheit\")\n",
    "elif tipo_temp == \"F\" :\n",
    "    celsius = (temperatura - 32 ) * 5/9\n",
    "    print (f\"La temperatura {temperatura} en fahrenheit equivalen a {celsius:.2f} en grados celsius\") \n",
    "else:\n",
    "    print (\"Valor invalido debe de ser C o F en mayuscula\")"
   ]
  },
  {
   "cell_type": "code",
   "execution_count": 9,
   "id": "2025e1f6",
   "metadata": {},
   "outputs": [
    {
     "name": "stdout",
     "output_type": "stream",
     "text": [
      "El año 2004 es bisiesto\n"
     ]
    }
   ],
   "source": [
    "#Calculadora de Año Bisiesto: Pide al usuario un año. Un año es bisiesto si cumple\n",
    "#una de estas dos condiciones: es divisible por 4 pero no por 100, a menos que\n",
    "#también sea divisible por 400. El programa debe imprimir si el año es bisiesto o no.\n",
    "\n",
    "año = int (input(\"Ingrese un año\"))\n",
    "\n",
    "if año % 400 == 0 :\n",
    "    print (f\"El año {año} es bisiesto\")\n",
    "elif año % 100 == 0 :\n",
    "    print (f\"El año {año} no es bisiesto\")\n",
    "elif año % 4 == 0 :\n",
    "    print (f\"El año {año} es bisiesto\")\n",
    "else:\n",
    "    print (f\"El año {año} no es bisiesto\")"
   ]
  },
  {
   "cell_type": "code",
   "execution_count": null,
   "id": "a6ade2a2",
   "metadata": {},
   "outputs": [
    {
     "name": "stdout",
     "output_type": "stream",
     "text": [
      "Fecha correcta\n"
     ]
    }
   ],
   "source": [
    "#Validador de Fechas: Pide al usuario que ingrese un día, mes y año como\n",
    "#números. El programa debe determinar si la fecha es válida. Considera meses de\n",
    "#30/31 días y que febrero tiene 29 días en año bisiesto y 28 en uno normal. El\n",
    "#programa debe imprimir \"Fecha válida\" o \"Fecha inválida\".\n",
    "\n",
    "def es_bisiesto(año_param):\n",
    "    return (año_param % 4 == 0 and año_param % 100 != 0) or (año_param % 400 == 0)\n",
    "\n",
    "\n",
    "\n",
    "dia = int (input(\"Ingrese un dia entre 1-31 :\"))\n",
    "mes = int (input(\"Ingrese el mes entre 1-12 :\"))\n",
    "año = int (input(\"Ingrese un año :\"))\n",
    "\n",
    "d_mes = 0\n",
    "\n",
    "if not (1 <= mes <= 12) :\n",
    "    print (\" El mes debe estar entre 1 y 12 \")\n",
    "elif not ( 1 <= dia <= 31 ) :\n",
    "    print (\" El dia debe de estar entre 1 y 31\")\n",
    "else :\n",
    "\n",
    "    if mes in (1, 3, 5, 7, 8, 10, 12) :\n",
    "        d_mes = 31\n",
    "    elif mes in (4, 6, 9, 11) :\n",
    "        d_mes = 30\n",
    "    elif mes == 2 :\n",
    "        if bisiesto :\n",
    "            d_mes = 29\n",
    "        else :\n",
    "            d_mes = 28\n",
    "    if 1 <= dia <= d_mes :\n",
    "        print (\"Fecha correcta\")\n",
    "    else : \n",
    "        print (f\"El dia {dia} no es correcto para el mes de {mes} que tiene estos dias {d_mes}\")\n",
    "\n"
   ]
  }
 ],
 "metadata": {
  "kernelspec": {
   "display_name": ".venv",
   "language": "python",
   "name": "python3"
  },
  "language_info": {
   "codemirror_mode": {
    "name": "ipython",
    "version": 3
   },
   "file_extension": ".py",
   "mimetype": "text/x-python",
   "name": "python",
   "nbconvert_exporter": "python",
   "pygments_lexer": "ipython3",
   "version": "3.12.1"
  }
 },
 "nbformat": 4,
 "nbformat_minor": 5
}
