{
 "cells": [
  {
   "cell_type": "code",
   "execution_count": 37,
   "id": "6c5b418d",
   "metadata": {},
   "outputs": [
    {
     "name": "stdout",
     "output_type": "stream",
     "text": [
      "El estudiante  : \n",
      "El promedio del estudiante ally es : 4.5\n",
      "El estudiante  : \n",
      "El promedio del estudiante ally es : 4.3999999999999995\n",
      "El estudiante  : \n",
      "El promedio del estudiante seb es : 4.5\n",
      "El estudiante  : \n",
      "El promedio del estudiante loi es : 4.033333333333333\n",
      "El mejor estudiante es: ally con el mayor promedio de 4.5\n"
     ]
    }
   ],
   "source": [
    "# Ejercicio 3:\n",
    "#Desarrolle un programa que calcule el mejor estudiante de acuerdo al promedio de sus 3 notas.\n",
    "#La cantidad de estudiantes del curso son 4.\n",
    "\n",
    "m_promedio = 0\n",
    "m_estudiante = \"\"\n",
    "\n",
    "for i in range (1, 5) :\n",
    "    print(f\"El estudiante {i} : \")\n",
    "    nombre = input (\"Nombre del estudiante :\")\n",
    "\n",
    "    nota1 = float(input(\"Ingrese su primera nota :\"))\n",
    "    nota2 = float(input(\"Ingrese su segunda nota :\"))\n",
    "    nota3 = float(input(\"Ingrese su tercera nota :\"))\n",
    "    promedio = (nota1 + nota2 + nota3) / 3\n",
    "    print(f\"El promedio del estudiante {nombre} es : {promedio}\")\n",
    "\n",
    "    if promedio > m_promedio :\n",
    "        m_promedio = promedio\n",
    "        m_estudiante = nombre\n",
    "print (f\"El mejor estudiante es: {m_estudiante} con el mayor promedio de {m_promedio}\")"
   ]
  },
  {
   "cell_type": "code",
   "execution_count": null,
   "id": "3d7c9ef0",
   "metadata": {},
   "outputs": [
    {
     "name": "stdout",
     "output_type": "stream",
     "text": [
      "En el mes 1 se ahorro : 5.00 \n",
      "El ahorro del año es : 5.00\n",
      "En el mes 2 se ahorro : 2.00 \n",
      "El ahorro del año es : 7.00\n",
      "En el mes 3 se ahorro : 52.00 \n",
      "El ahorro del año es : 59.00\n",
      "En el mes 4 se ahorro : 87.00 \n",
      "El ahorro del año es : 146.00\n",
      "En el mes 5 se ahorro : 356.00 \n",
      "El ahorro del año es : 502.00\n",
      "En el mes 6 se ahorro : 356.00 \n",
      "El ahorro del año es : 858.00\n",
      "En el mes 7 se ahorro : 35356.00 \n",
      "El ahorro del año es : 36214.00\n",
      "En el mes 8 se ahorro : 35364.00 \n",
      "El ahorro del año es : 71578.00\n",
      "En el mes 9 se ahorro : 35412.00 \n",
      "El ahorro del año es : 106990.00\n",
      "En el mes 10 se ahorro : 2541.00 \n",
      "El ahorro del año es : 109531.00\n",
      "En el mes 11 se ahorro : 24324.00 \n",
      "El ahorro del año es : 133855.00\n",
      "En el mes 12 se ahorro : 114.00 \n",
      "El ahorro del año es : 133969.00\n"
     ]
    }
   ],
   "source": [
    "# Ejercicio 1: Imprimir números pares\n",
    "# Se requiere un algoritmo para determinar cuánto ahorrará una persona en un año, si al\n",
    "# final de cada mes deposita variables cantidades de dinero; además, se requiere saber\n",
    "# cuánto lleva ahorrado cada mes.\n",
    "\n",
    "ahorro = 0\n",
    "\n",
    "for m in range ( 1, 13) :\n",
    "    ahorrado_mes = float (input(f\"Ingrese la cantidad ahorrada en el mes {m}:\"))\n",
    "    ahorro_año = ahorro_año + ahorrado_mes\n",
    "    print (f\"En el mes {m} se ahorro : {ahorrado_mes:.2f} \")\n",
    "    print(f\"El ahorro del año es : {ahorro_año:.2f}\")"
   ]
  },
  {
   "cell_type": "code",
   "execution_count": null,
   "id": "1f8853ee",
   "metadata": {},
   "outputs": [
    {
     "name": "stdout",
     "output_type": "stream",
     "text": [
      "La suma entre 1 y 30 es: 168\n"
     ]
    }
   ],
   "source": [
    "# Ejercicio 2: Suma de múltiplos de 3\n",
    "# Escribe un programa que calcule la suma de todos los múltiplos de 3 entre 1 y 30.\n",
    "\n",
    "suma = 0\n",
    "for i in range (3, 31, 3) :\n",
    "    suma = suma + i\n",
    "print(f\"La suma entre 1 y 30 es: {suma}\")"
   ]
  },
  {
   "cell_type": "code",
   "execution_count": 13,
   "id": "ff00440b",
   "metadata": {},
   "outputs": [
    {
     "name": "stdout",
     "output_type": "stream",
     "text": [
      "El factorial del numero 15 es : 1307674368000\n"
     ]
    }
   ],
   "source": [
    "# Ejercicio 3: Factorial de un número\n",
    "# Escribe un programa que pida al usuario un número entero positivo y calcule su factorial.\n",
    "\n",
    "entero = int (input(\"Ingrese un numero entero positivo\"))\n",
    "factorial = 1\n",
    "\n",
    "for i in range (1, entero + 1) :\n",
    "    factorial = factorial * i\n",
    "print (f\"El factorial del numero {entero} es : {factorial}\")"
   ]
  },
  {
   "cell_type": "code",
   "execution_count": null,
   "id": "d675365f",
   "metadata": {},
   "outputs": [
    {
     "name": "stdout",
     "output_type": "stream",
     "text": [
      "Los primeros 10 numeros son:\n",
      "0\n",
      "1\n",
      "1\n",
      "2\n",
      "3\n",
      "5\n",
      "8\n",
      "13\n",
      "21\n",
      "34\n",
      "55\n"
     ]
    }
   ],
   "source": [
    "# Ejercicio 4: Generar serie Fibonacci\n",
    "# Escribe un programa que genere los primeros 10 números de la serie de Fibonacci.\n",
    "\n",
    "a, b = 0, 1\n",
    "print(\"Los primeros 10 numeros son:\")\n",
    "\n",
    "for n in range (10) :\n",
    "    print (a)\n",
    "    a, b = b, a + b"
   ]
  },
  {
   "cell_type": "code",
   "execution_count": 32,
   "id": "99cbe11c",
   "metadata": {},
   "outputs": [
    {
     "name": "stdout",
     "output_type": "stream",
     "text": [
      "1 \n",
      "1 1 \n",
      "1 2 1 \n",
      "1 3 3 1 \n",
      "1 4 6 4 1 \n"
     ]
    }
   ],
   "source": [
    "# Ejercicio 5: Generar triángulo de Pascal\n",
    "# Escribe un programa que genere el Triángulo de Pascal hasta la fila n, donde n es un\n",
    "# número ingresado por el usuario. El Triángulo de Pascal es un arreglo triangular donde el\n",
    "# número en cada posición es la suma de los dos números directamente encima de él en la fila\n",
    "# anterior. Nota: No usar vectores\n",
    "\n",
    "filas = int (input(\"Ingrese el numero de filas que quiere en su triangulo : \"))\n",
    "\n",
    "for fila in range (filas) :\n",
    "    numero = 1\n",
    "    print (numero, end= \" \")\n",
    "\n",
    "    for i in range (1, fila + 1) :\n",
    "        numero = numero * (fila - i + 1 ) // i\n",
    "        print (numero, end= \" \")\n",
    "    print()\n",
    "  \n",
    "        \n"
   ]
  },
  {
   "cell_type": "code",
   "execution_count": 35,
   "id": "cee34cdb",
   "metadata": {},
   "outputs": [
    {
     "name": "stdout",
     "output_type": "stream",
     "text": [
      " Cantidades menores : 0\n",
      " Cantidades iguales : 0 \n",
      " Cantidades mayores : 1\n",
      " Cantidades menores : 0\n",
      " Cantidades iguales : 0 \n",
      " Cantidades mayores : 2\n",
      " Cantidades menores : 1\n",
      " Cantidades iguales : 0 \n",
      " Cantidades mayores : 2\n",
      " Cantidades menores : 1\n",
      " Cantidades iguales : 1 \n",
      " Cantidades mayores : 2\n"
     ]
    }
   ],
   "source": [
    "# Ejercicio 6: Mayores, iguales y menores\n",
    "# Se requiere un algoritmo para determinar, de N cantidades, cuántas son menores o\n",
    "# iguales a cero y cuántas mayores a cero.\n",
    "\n",
    "cantidades = int (input(\"Ingrese el numero de cantidades\"))\n",
    "menor = 0\n",
    "igual = 0\n",
    "mayor = 0\n",
    "\n",
    "for i in range (1, cantidades + 1) :\n",
    "    cantidad = float(input(f\"Cantidad {i} :\"))\n",
    "    if cantidad < 0 :\n",
    "        menor = menor + 1\n",
    "    elif cantidad == 0 :\n",
    "        igual = igual + 1\n",
    "    else :\n",
    "        mayor = mayor + 1\n",
    "\n",
    "    print (f\" Cantidades menores : {menor}\")\n",
    "    print (f\" Cantidades iguales : {igual} \")\n",
    "    print (f\" Cantidades mayores : {mayor}\")\n"
   ]
  },
  {
   "cell_type": "code",
   "execution_count": null,
   "id": "e899a9f4",
   "metadata": {},
   "outputs": [],
   "source": []
  }
 ],
 "metadata": {
  "kernelspec": {
   "display_name": ".venv",
   "language": "python",
   "name": "python3"
  },
  "language_info": {
   "codemirror_mode": {
    "name": "ipython",
    "version": 3
   },
   "file_extension": ".py",
   "mimetype": "text/x-python",
   "name": "python",
   "nbconvert_exporter": "python",
   "pygments_lexer": "ipython3",
   "version": "3.12.1"
  }
 },
 "nbformat": 4,
 "nbformat_minor": 5
}
